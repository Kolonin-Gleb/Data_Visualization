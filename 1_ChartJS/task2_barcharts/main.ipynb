{
 "cells": [
  {
   "cell_type": "code",
   "execution_count": 1,
   "metadata": {},
   "outputs": [],
   "source": [
    "import pandas as pd\n",
    "# Отображу данные по 10 странам, чтобы не перегрузить диаграмму"
   ]
  },
  {
   "cell_type": "code",
   "execution_count": 35,
   "metadata": {},
   "outputs": [
    {
     "data": {
      "text/html": [
       "<div>\n",
       "<style scoped>\n",
       "    .dataframe tbody tr th:only-of-type {\n",
       "        vertical-align: middle;\n",
       "    }\n",
       "\n",
       "    .dataframe tbody tr th {\n",
       "        vertical-align: top;\n",
       "    }\n",
       "\n",
       "    .dataframe thead th {\n",
       "        text-align: right;\n",
       "    }\n",
       "</style>\n",
       "<table border=\"1\" class=\"dataframe\">\n",
       "  <thead>\n",
       "    <tr style=\"text-align: right;\">\n",
       "      <th></th>\n",
       "      <th>Страна</th>\n",
       "      <th>year_2019</th>\n",
       "      <th>year_2020</th>\n",
       "    </tr>\n",
       "  </thead>\n",
       "  <tbody>\n",
       "    <tr>\n",
       "      <th>0</th>\n",
       "      <td>Австралия</td>\n",
       "      <td>0.999</td>\n",
       "      <td>1.010</td>\n",
       "    </tr>\n",
       "    <tr>\n",
       "      <th>1</th>\n",
       "      <td>Австрия</td>\n",
       "      <td>0.386</td>\n",
       "      <td>0.373</td>\n",
       "    </tr>\n",
       "    <tr>\n",
       "      <th>2</th>\n",
       "      <td>Азербайджан</td>\n",
       "      <td>0.112</td>\n",
       "      <td>0.111</td>\n",
       "    </tr>\n",
       "    <tr>\n",
       "      <th>3</th>\n",
       "      <td>Албания</td>\n",
       "      <td>0.031</td>\n",
       "      <td>0.031</td>\n",
       "    </tr>\n",
       "    <tr>\n",
       "      <th>4</th>\n",
       "      <td>Алжир</td>\n",
       "      <td>0.383</td>\n",
       "      <td>0.373</td>\n",
       "    </tr>\n",
       "    <tr>\n",
       "      <th>5</th>\n",
       "      <td>Ангола</td>\n",
       "      <td>0.164</td>\n",
       "      <td>0.163</td>\n",
       "    </tr>\n",
       "    <tr>\n",
       "      <th>6</th>\n",
       "      <td>Антигуа и Барбуда</td>\n",
       "      <td>0.002</td>\n",
       "      <td>0.001</td>\n",
       "    </tr>\n",
       "    <tr>\n",
       "      <th>7</th>\n",
       "      <td>Аргентина</td>\n",
       "      <td>0.767</td>\n",
       "      <td>0.715</td>\n",
       "    </tr>\n",
       "    <tr>\n",
       "      <th>8</th>\n",
       "      <td>Армения</td>\n",
       "      <td>0.031</td>\n",
       "      <td>0.030</td>\n",
       "    </tr>\n",
       "    <tr>\n",
       "      <th>9</th>\n",
       "      <td>Аруба</td>\n",
       "      <td>0.003</td>\n",
       "      <td>0.002</td>\n",
       "    </tr>\n",
       "    <tr>\n",
       "      <th>10</th>\n",
       "      <td>Афганистан</td>\n",
       "      <td>0.061</td>\n",
       "      <td>0.060</td>\n",
       "    </tr>\n",
       "  </tbody>\n",
       "</table>\n",
       "</div>"
      ],
      "text/plain": [
       "               Страна  year_2019  year_2020\n",
       "0           Австралия      0.999      1.010\n",
       "1             Австрия      0.386      0.373\n",
       "2         Азербайджан      0.112      0.111\n",
       "3             Албания      0.031      0.031\n",
       "4               Алжир      0.383      0.373\n",
       "5              Ангола      0.164      0.163\n",
       "6   Антигуа и Барбуда      0.002      0.001\n",
       "7           Аргентина      0.767      0.715\n",
       "8             Армения      0.031      0.030\n",
       "9               Аруба      0.003      0.002\n",
       "10         Афганистан      0.061      0.060"
      ]
     },
     "execution_count": 35,
     "metadata": {},
     "output_type": "execute_result"
    }
   ],
   "source": [
    "excel_df = pd.read_excel('ВВП стран мира.xlsx', skiprows=[0, 1, 2], nrows=11, usecols=[0, 4, 5])\n",
    "\n",
    "columns = list(excel_df.columns)\n",
    "columns[1] = \"year_\"+str(columns[1])\n",
    "columns[2] = \"year_\"+str(columns[2])\n",
    "\n",
    "excel_df.columns = columns\n",
    "excel_df"
   ]
  },
  {
   "cell_type": "code",
   "execution_count": null,
   "metadata": {},
   "outputs": [],
   "source": [
    "with open('GDP_data.js', 'w', encoding='utf-8') as f:\n",
    "    f.write(\"countries = \"+ str(list(excel_df['Страна']))+\";\\n\")\n",
    "    f.write(\"year2019 = \"+ str(list(excel_df['year_2019']))+\";\\n\")\n",
    "    f.write(\"year2020 = \"+ str(list(excel_df['year_2020']))+\";\\n\")\n",
    "    # Списки с данными под каждый сектор"
   ]
  }
 ],
 "metadata": {
  "kernelspec": {
   "display_name": "Python 3.7.13 ('Python_Modules')",
   "language": "python",
   "name": "python3"
  },
  "language_info": {
   "codemirror_mode": {
    "name": "ipython",
    "version": 3
   },
   "file_extension": ".py",
   "mimetype": "text/x-python",
   "name": "python",
   "nbconvert_exporter": "python",
   "pygments_lexer": "ipython3",
   "version": "3.7.13"
  },
  "orig_nbformat": 4,
  "vscode": {
   "interpreter": {
    "hash": "8b898bfe273e3fe30f12ab75512dbef8deb167dd6bde0595f757692d2b4896ca"
   }
  }
 },
 "nbformat": 4,
 "nbformat_minor": 2
}
